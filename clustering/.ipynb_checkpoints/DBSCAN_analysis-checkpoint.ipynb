{
 "cells": [
  {
   "cell_type": "markdown",
   "metadata": {},
   "source": [
    "# DBSCAN analysis"
   ]
  },
  {
   "cell_type": "code",
   "execution_count": 3,
   "metadata": {
    "collapsed": true
   },
   "outputs": [],
   "source": [
    "from sklearn.metrics import *\n",
    "from sklearn.cluster import DBSCAN\n",
    "from sklearn.neighbors import NearestNeighbors\n",
    "from sklearn.decomposition import PCA\n",
    "from sklearn.preprocessing import MinMaxScaler\n",
    "import pandas as pd\n",
    "import numpy as np\n",
    "import matplotlib.pyplot as plt"
   ]
  },
  {
   "cell_type": "code",
   "execution_count": 4,
   "metadata": {},
   "outputs": [],
   "source": [
    "# read dataset\n",
    "df_01_scaled = pd.read_csv('../data/HR_comma_sep_01_scaled.csv', index_col=0)"
   ]
  },
  {
   "cell_type": "markdown",
   "metadata": {},
   "source": [
    "### Choice of attributes"
   ]
  },
  {
   "cell_type": "code",
   "execution_count": 5,
   "metadata": {
    "collapsed": true
   },
   "outputs": [],
   "source": [
    "# choice of attributes\n",
    "numerical_features = ['satisfaction_level', 'last_evaluation', 'number_project', 'average_montly_hours', 'time_spend_company']\n",
    "train_data = df_01_scaled[numerical_features].values"
   ]
  },
  {
   "cell_type": "markdown",
   "metadata": {},
   "source": [
    "### Choice of epsilon and MinPoints"
   ]
  },
  {
   "cell_type": "code",
   "execution_count": 6,
   "metadata": {},
   "outputs": [
    {
     "data": {
      "image/png": "[encoded data removed]",
      "text/plain": [
       "<matplotlib.figure.Figure at 0x7f1742807210>"
      ]
     },
     "metadata": {},
     "output_type": "display_data"
    }
   ],
   "source": [
    "# choice of epsilon plotting the k-nearest neighbors distance for each point\n",
    "k=4 # according to dbscan paper\n",
    "knn = NearestNeighbors(n_neighbors=k, metric='euclidean')\n",
    "knn.fit(train_data)\n",
    "dist, ind = knn.kneighbors()\n",
    "sorted_k_dist = sorted(dist[:,k-1], reverse=True)\n",
    "plt.plot(range(0, len(sorted_k_dist)), sorted_k_dist)\n",
    "plt.ylabel('%dth-NN distance' % k)\n",
    "plt.xlabel('Points sorted on descending %dth-NN distance' % k)\n",
    "plt.title('DBSCAN: selection of epsilon')\n",
    "plt.savefig('../images/dbscan_epsilon_selection.png')\n",
    "plt.show()"
   ]
  },
  {
   "cell_type": "code",
   "execution_count": 18,
   "metadata": {},
   "outputs": [
    {
     "name": "stdout",
     "output_type": "stream",
     "text": [
      "max dist diffs: 0.0311895112418 arg: 7 dist: 0.361828928029\n",
      "min min diffs: 0.0 arg: 0 dist: 0.426704523396\n",
      "top 10 diffs args: [ 7  5  3 22  9 32 26 13 14 20] --> points: [ 8  6  4 23 10 33 27 14 15 21]\n"
     ]
    }
   ],
   "source": [
    "diffs = [0] * len(sorted_k_dist)\n",
    "for i in range(len(sorted_k_dist) - 1):\n",
    "    diffs[i] = abs(sorted_k_dist[i+1] - sorted_k_dist[i])\n",
    "\n",
    "print 'max dist diffs:', np.max(diffs), 'arg:', np.argmax(diffs), 'dist:', sorted_k_dist[np.argmax(diffs)+1]\n",
    "print 'min min diffs:', np.min(diffs), 'arg:', np.argmin(diffs), 'dist:', sorted_k_dist[np.argmin(diffs)+1]\n",
    "n = 10\n",
    "top_diffs_args = (-np.array(diffs)).argsort()[:n]\n",
    "print 'top', n, 'diffs args:', top_diffs_args, '--> points:', top_diffs_args + 1\n",
    "# points on the left of the threshold are noise points"
   ]
  },
  {
   "cell_type": "code",
   "execution_count": 16,
   "metadata": {},
   "outputs": [
    {
     "name": "stdout",
     "output_type": "stream",
     "text": [
      "epsilon: 0.361828928029\n",
      "labels: {0: 14995, -1: 4}\n",
      "silhouette: 0.391926758906\n"
     ]
    }
   ],
   "source": [
    "# DBSCAN\n",
    "epsilon = sorted_k_dist[top_diffs_args[0] + 1]\n",
    "print 'epsilon:', epsilon\n",
    "dbscan = DBSCAN(eps=epsilon, min_samples=k+1, metric='euclidean')\n",
    "dbscan.fit(train_data)\n",
    "hist, bins = np.histogram(dbscan.labels_, bins=range(-1, len(set(dbscan.labels_))))\n",
    "\n",
    "print 'labels:', dict(zip(bins, hist))\n",
    "print 'silhouette:', silhouette_score(train_data, dbscan.labels_)"
   ]
  },
  {
   "cell_type": "code",
   "execution_count": null,
   "metadata": {
    "collapsed": true
   },
   "outputs": [],
   "source": []
  },
  {
   "cell_type": "code",
   "execution_count": null,
   "metadata": {
    "collapsed": true
   },
   "outputs": [],
   "source": []
  },
  {
   "cell_type": "code",
   "execution_count": null,
   "metadata": {
    "collapsed": true
   },
   "outputs": [],
   "source": []
  }
 ],
 "metadata": {
  "kernelspec": {
   "display_name": "Python 2",
   "language": "python",
   "name": "python2"
  },
  "language_info": {
   "codemirror_mode": {
    "name": "ipython",
    "version": 2
   },
   "file_extension": ".py",
   "mimetype": "text/x-python",
   "name": "python",
   "nbconvert_exporter": "python",
   "pygments_lexer": "ipython2",
   "version": "2.7.14"
  }
 },
 "nbformat": 4,
 "nbformat_minor": 2
}
