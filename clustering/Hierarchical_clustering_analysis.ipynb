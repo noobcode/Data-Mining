{
 "cells": [
  {
   "cell_type": "markdown",
   "metadata": {},
   "source": [
    "# Hierarchical clustering analysis"
   ]
  },
  {
   "cell_type": "code",
   "execution_count": 1,
   "metadata": {
    "collapsed": true
   },
   "outputs": [],
   "source": [
    "from sklearn.metrics import *\n",
    "from sklearn.decomposition import PCA\n",
    "from sklearn.cluster import AgglomerativeClustering\n",
    "from sklearn.neighbors import kneighbors_graph\n",
    "from scipy.stats import mode\n",
    "from scipy.spatial.distance import pdist\n",
    "from scipy.cluster.hierarchy import linkage, dendrogram\n",
    "import pandas as pd\n",
    "import numpy as np\n",
    "import matplotlib.pyplot as plt"
   ]
  },
  {
   "cell_type": "code",
   "execution_count": 2,
   "metadata": {
    "collapsed": true
   },
   "outputs": [],
   "source": [
    "# read dataset\n",
    "df_01_scaled = pd.read_csv('../data/HR_comma_sep_01_scaled.csv', index_col=0)"
   ]
  },
  {
   "cell_type": "code",
   "execution_count": 3,
   "metadata": {
    "collapsed": true
   },
   "outputs": [],
   "source": [
    "# choice of attributes\n",
    "numerical_features = ['satisfaction_level', 'last_evaluation', 'number_project', 'average_montly_hours', 'time_spend_company']\n",
    "train_data = df_01_scaled[numerical_features].values"
   ]
  },
  {
   "cell_type": "code",
   "execution_count": 4,
   "metadata": {
    "collapsed": true
   },
   "outputs": [],
   "source": [
    "# distance matrix\n",
    "data_dist = pdist(train_data, metric='euclidean')"
   ]
  },
  {
   "cell_type": "code",
   "execution_count": 5,
   "metadata": {
    "collapsed": true
   },
   "outputs": [],
   "source": [
    "# compute hierarchical clustering\n",
    "methods = ['single', 'complete', 'average', 'centroid', 'ward']\n",
    "data_links = dict()\n",
    "for m in methods:\n",
    "    data_links[m] = linkage(data_dist, method=m, metric='euclidean')"
   ]
  },
  {
   "cell_type": "code",
   "execution_count": 16,
   "metadata": {},
   "outputs": [
    {
     "data": {
      "text/html": [
       "<div>\n",
       "<style scoped>\n",
       "    .dataframe tbody tr th:only-of-type {\n",
       "        vertical-align: middle;\n",
       "    }\n",
       "\n",
       "    .dataframe tbody tr th {\n",
       "        vertical-align: top;\n",
       "    }\n",
       "\n",
       "    .dataframe thead th {\n",
       "        text-align: right;\n",
       "    }\n",
       "</style>\n",
       "<table border=\"1\" class=\"dataframe\">\n",
       "  <thead>\n",
       "    <tr style=\"text-align: right;\">\n",
       "      <th></th>\n",
       "      <th>0</th>\n",
       "      <th>1</th>\n",
       "      <th>2</th>\n",
       "      <th>3</th>\n",
       "    </tr>\n",
       "  </thead>\n",
       "  <tbody>\n",
       "    <tr>\n",
       "      <th>0</th>\n",
       "      <td>0.0</td>\n",
       "      <td>12000.0</td>\n",
       "      <td>0.000000</td>\n",
       "      <td>2.0</td>\n",
       "    </tr>\n",
       "    <tr>\n",
       "      <th>1</th>\n",
       "      <td>14211.0</td>\n",
       "      <td>14999.0</td>\n",
       "      <td>0.000000</td>\n",
       "      <td>3.0</td>\n",
       "    </tr>\n",
       "    <tr>\n",
       "      <th>2</th>\n",
       "      <td>242.0</td>\n",
       "      <td>12242.0</td>\n",
       "      <td>0.000000</td>\n",
       "      <td>2.0</td>\n",
       "    </tr>\n",
       "    <tr>\n",
       "      <th>3</th>\n",
       "      <td>14453.0</td>\n",
       "      <td>15001.0</td>\n",
       "      <td>0.000000</td>\n",
       "      <td>3.0</td>\n",
       "    </tr>\n",
       "    <tr>\n",
       "      <th>4</th>\n",
       "      <td>1883.0</td>\n",
       "      <td>14919.0</td>\n",
       "      <td>0.000000</td>\n",
       "      <td>2.0</td>\n",
       "    </tr>\n",
       "    <tr>\n",
       "      <th>5</th>\n",
       "      <td>507.0</td>\n",
       "      <td>12507.0</td>\n",
       "      <td>0.000000</td>\n",
       "      <td>2.0</td>\n",
       "    </tr>\n",
       "    <tr>\n",
       "      <th>6</th>\n",
       "      <td>14718.0</td>\n",
       "      <td>15004.0</td>\n",
       "      <td>0.000000</td>\n",
       "      <td>3.0</td>\n",
       "    </tr>\n",
       "    <tr>\n",
       "      <th>7</th>\n",
       "      <td>589.0</td>\n",
       "      <td>12589.0</td>\n",
       "      <td>0.000000</td>\n",
       "      <td>2.0</td>\n",
       "    </tr>\n",
       "    <tr>\n",
       "      <th>8</th>\n",
       "      <td>14800.0</td>\n",
       "      <td>15006.0</td>\n",
       "      <td>0.000000</td>\n",
       "      <td>3.0</td>\n",
       "    </tr>\n",
       "    <tr>\n",
       "      <th>9</th>\n",
       "      <td>1915.0</td>\n",
       "      <td>14951.0</td>\n",
       "      <td>0.000000</td>\n",
       "      <td>2.0</td>\n",
       "    </tr>\n",
       "    <tr>\n",
       "      <th>10</th>\n",
       "      <td>100.0</td>\n",
       "      <td>12100.0</td>\n",
       "      <td>0.000000</td>\n",
       "      <td>2.0</td>\n",
       "    </tr>\n",
       "    <tr>\n",
       "      <th>11</th>\n",
       "      <td>14311.0</td>\n",
       "      <td>15009.0</td>\n",
       "      <td>0.000000</td>\n",
       "      <td>3.0</td>\n",
       "    </tr>\n",
       "    <tr>\n",
       "      <th>12</th>\n",
       "      <td>209.0</td>\n",
       "      <td>12209.0</td>\n",
       "      <td>0.000000</td>\n",
       "      <td>2.0</td>\n",
       "    </tr>\n",
       "    <tr>\n",
       "      <th>13</th>\n",
       "      <td>14420.0</td>\n",
       "      <td>15011.0</td>\n",
       "      <td>0.000000</td>\n",
       "      <td>3.0</td>\n",
       "    </tr>\n",
       "    <tr>\n",
       "      <th>14</th>\n",
       "      <td>344.0</td>\n",
       "      <td>12344.0</td>\n",
       "      <td>0.000000</td>\n",
       "      <td>2.0</td>\n",
       "    </tr>\n",
       "    <tr>\n",
       "      <th>15</th>\n",
       "      <td>14555.0</td>\n",
       "      <td>15013.0</td>\n",
       "      <td>0.000000</td>\n",
       "      <td>3.0</td>\n",
       "    </tr>\n",
       "    <tr>\n",
       "      <th>16</th>\n",
       "      <td>326.0</td>\n",
       "      <td>12326.0</td>\n",
       "      <td>0.000000</td>\n",
       "      <td>2.0</td>\n",
       "    </tr>\n",
       "    <tr>\n",
       "      <th>17</th>\n",
       "      <td>14537.0</td>\n",
       "      <td>15015.0</td>\n",
       "      <td>0.000000</td>\n",
       "      <td>3.0</td>\n",
       "    </tr>\n",
       "    <tr>\n",
       "      <th>18</th>\n",
       "      <td>1962.0</td>\n",
       "      <td>14998.0</td>\n",
       "      <td>0.000000</td>\n",
       "      <td>2.0</td>\n",
       "    </tr>\n",
       "    <tr>\n",
       "      <th>19</th>\n",
       "      <td>4.0</td>\n",
       "      <td>12004.0</td>\n",
       "      <td>0.000000</td>\n",
       "      <td>2.0</td>\n",
       "    </tr>\n",
       "    <tr>\n",
       "      <th>20</th>\n",
       "      <td>14215.0</td>\n",
       "      <td>15018.0</td>\n",
       "      <td>0.000000</td>\n",
       "      <td>3.0</td>\n",
       "    </tr>\n",
       "    <tr>\n",
       "      <th>21</th>\n",
       "      <td>95.0</td>\n",
       "      <td>12095.0</td>\n",
       "      <td>0.000000</td>\n",
       "      <td>2.0</td>\n",
       "    </tr>\n",
       "    <tr>\n",
       "      <th>22</th>\n",
       "      <td>14306.0</td>\n",
       "      <td>15020.0</td>\n",
       "      <td>0.000000</td>\n",
       "      <td>3.0</td>\n",
       "    </tr>\n",
       "    <tr>\n",
       "      <th>23</th>\n",
       "      <td>1844.0</td>\n",
       "      <td>14880.0</td>\n",
       "      <td>0.000000</td>\n",
       "      <td>2.0</td>\n",
       "    </tr>\n",
       "    <tr>\n",
       "      <th>24</th>\n",
       "      <td>222.0</td>\n",
       "      <td>10671.0</td>\n",
       "      <td>0.000000</td>\n",
       "      <td>2.0</td>\n",
       "    </tr>\n",
       "    <tr>\n",
       "      <th>25</th>\n",
       "      <td>12222.0</td>\n",
       "      <td>15023.0</td>\n",
       "      <td>0.000000</td>\n",
       "      <td>3.0</td>\n",
       "    </tr>\n",
       "    <tr>\n",
       "      <th>26</th>\n",
       "      <td>12882.0</td>\n",
       "      <td>15024.0</td>\n",
       "      <td>0.000000</td>\n",
       "      <td>4.0</td>\n",
       "    </tr>\n",
       "    <tr>\n",
       "      <th>27</th>\n",
       "      <td>14433.0</td>\n",
       "      <td>15025.0</td>\n",
       "      <td>0.000000</td>\n",
       "      <td>5.0</td>\n",
       "    </tr>\n",
       "    <tr>\n",
       "      <th>28</th>\n",
       "      <td>215.0</td>\n",
       "      <td>1189.0</td>\n",
       "      <td>0.000000</td>\n",
       "      <td>2.0</td>\n",
       "    </tr>\n",
       "    <tr>\n",
       "      <th>29</th>\n",
       "      <td>12215.0</td>\n",
       "      <td>15027.0</td>\n",
       "      <td>0.000000</td>\n",
       "      <td>3.0</td>\n",
       "    </tr>\n",
       "    <tr>\n",
       "      <th>...</th>\n",
       "      <td>...</td>\n",
       "      <td>...</td>\n",
       "      <td>...</td>\n",
       "      <td>...</td>\n",
       "    </tr>\n",
       "    <tr>\n",
       "      <th>14968</th>\n",
       "      <td>6708.0</td>\n",
       "      <td>29966.0</td>\n",
       "      <td>0.242141</td>\n",
       "      <td>14757.0</td>\n",
       "    </tr>\n",
       "    <tr>\n",
       "      <th>14969</th>\n",
       "      <td>27950.0</td>\n",
       "      <td>29965.0</td>\n",
       "      <td>0.242618</td>\n",
       "      <td>184.0</td>\n",
       "    </tr>\n",
       "    <tr>\n",
       "      <th>14970</th>\n",
       "      <td>18080.0</td>\n",
       "      <td>29922.0</td>\n",
       "      <td>0.242932</td>\n",
       "      <td>6.0</td>\n",
       "    </tr>\n",
       "    <tr>\n",
       "      <th>14971</th>\n",
       "      <td>23886.0</td>\n",
       "      <td>29967.0</td>\n",
       "      <td>0.246503</td>\n",
       "      <td>14761.0</td>\n",
       "    </tr>\n",
       "    <tr>\n",
       "      <th>14972</th>\n",
       "      <td>17972.0</td>\n",
       "      <td>29970.0</td>\n",
       "      <td>0.246817</td>\n",
       "      <td>14763.0</td>\n",
       "    </tr>\n",
       "    <tr>\n",
       "      <th>14973</th>\n",
       "      <td>4691.0</td>\n",
       "      <td>29971.0</td>\n",
       "      <td>0.247254</td>\n",
       "      <td>14764.0</td>\n",
       "    </tr>\n",
       "    <tr>\n",
       "      <th>14974</th>\n",
       "      <td>843.0</td>\n",
       "      <td>29972.0</td>\n",
       "      <td>0.250358</td>\n",
       "      <td>14765.0</td>\n",
       "    </tr>\n",
       "    <tr>\n",
       "      <th>14975</th>\n",
       "      <td>17974.0</td>\n",
       "      <td>29973.0</td>\n",
       "      <td>0.251604</td>\n",
       "      <td>14768.0</td>\n",
       "    </tr>\n",
       "    <tr>\n",
       "      <th>14976</th>\n",
       "      <td>29968.0</td>\n",
       "      <td>29974.0</td>\n",
       "      <td>0.253018</td>\n",
       "      <td>14952.0</td>\n",
       "    </tr>\n",
       "    <tr>\n",
       "      <th>14977</th>\n",
       "      <td>29173.0</td>\n",
       "      <td>29975.0</td>\n",
       "      <td>0.254060</td>\n",
       "      <td>14956.0</td>\n",
       "    </tr>\n",
       "    <tr>\n",
       "      <th>14978</th>\n",
       "      <td>18069.0</td>\n",
       "      <td>29976.0</td>\n",
       "      <td>0.258142</td>\n",
       "      <td>14958.0</td>\n",
       "    </tr>\n",
       "    <tr>\n",
       "      <th>14979</th>\n",
       "      <td>18075.0</td>\n",
       "      <td>18076.0</td>\n",
       "      <td>0.262153</td>\n",
       "      <td>4.0</td>\n",
       "    </tr>\n",
       "    <tr>\n",
       "      <th>14980</th>\n",
       "      <td>18070.0</td>\n",
       "      <td>29977.0</td>\n",
       "      <td>0.265405</td>\n",
       "      <td>14960.0</td>\n",
       "    </tr>\n",
       "    <tr>\n",
       "      <th>14981</th>\n",
       "      <td>18071.0</td>\n",
       "      <td>29979.0</td>\n",
       "      <td>0.267091</td>\n",
       "      <td>14962.0</td>\n",
       "    </tr>\n",
       "    <tr>\n",
       "      <th>14982</th>\n",
       "      <td>18072.0</td>\n",
       "      <td>29980.0</td>\n",
       "      <td>0.267646</td>\n",
       "      <td>14964.0</td>\n",
       "    </tr>\n",
       "    <tr>\n",
       "      <th>14983</th>\n",
       "      <td>18078.0</td>\n",
       "      <td>18079.0</td>\n",
       "      <td>0.268995</td>\n",
       "      <td>4.0</td>\n",
       "    </tr>\n",
       "    <tr>\n",
       "      <th>14984</th>\n",
       "      <td>7492.0</td>\n",
       "      <td>29981.0</td>\n",
       "      <td>0.270592</td>\n",
       "      <td>14965.0</td>\n",
       "    </tr>\n",
       "    <tr>\n",
       "      <th>14985</th>\n",
       "      <td>2819.0</td>\n",
       "      <td>29983.0</td>\n",
       "      <td>0.274461</td>\n",
       "      <td>14966.0</td>\n",
       "    </tr>\n",
       "    <tr>\n",
       "      <th>14986</th>\n",
       "      <td>18083.0</td>\n",
       "      <td>29969.0</td>\n",
       "      <td>0.283554</td>\n",
       "      <td>8.0</td>\n",
       "    </tr>\n",
       "    <tr>\n",
       "      <th>14987</th>\n",
       "      <td>18073.0</td>\n",
       "      <td>29984.0</td>\n",
       "      <td>0.287450</td>\n",
       "      <td>14968.0</td>\n",
       "    </tr>\n",
       "    <tr>\n",
       "      <th>14988</th>\n",
       "      <td>18077.0</td>\n",
       "      <td>29982.0</td>\n",
       "      <td>0.295980</td>\n",
       "      <td>6.0</td>\n",
       "    </tr>\n",
       "    <tr>\n",
       "      <th>14989</th>\n",
       "      <td>29628.0</td>\n",
       "      <td>29986.0</td>\n",
       "      <td>0.306195</td>\n",
       "      <td>14971.0</td>\n",
       "    </tr>\n",
       "    <tr>\n",
       "      <th>14990</th>\n",
       "      <td>29978.0</td>\n",
       "      <td>29988.0</td>\n",
       "      <td>0.312157</td>\n",
       "      <td>14975.0</td>\n",
       "    </tr>\n",
       "    <tr>\n",
       "      <th>14991</th>\n",
       "      <td>29987.0</td>\n",
       "      <td>29989.0</td>\n",
       "      <td>0.328674</td>\n",
       "      <td>14981.0</td>\n",
       "    </tr>\n",
       "    <tr>\n",
       "      <th>14992</th>\n",
       "      <td>29985.0</td>\n",
       "      <td>29990.0</td>\n",
       "      <td>0.328842</td>\n",
       "      <td>14989.0</td>\n",
       "    </tr>\n",
       "    <tr>\n",
       "      <th>14993</th>\n",
       "      <td>18084.0</td>\n",
       "      <td>29991.0</td>\n",
       "      <td>0.334819</td>\n",
       "      <td>14991.0</td>\n",
       "    </tr>\n",
       "    <tr>\n",
       "      <th>14994</th>\n",
       "      <td>18085.0</td>\n",
       "      <td>29992.0</td>\n",
       "      <td>0.345592</td>\n",
       "      <td>14993.0</td>\n",
       "    </tr>\n",
       "    <tr>\n",
       "      <th>14995</th>\n",
       "      <td>18086.0</td>\n",
       "      <td>29993.0</td>\n",
       "      <td>0.350626</td>\n",
       "      <td>14995.0</td>\n",
       "    </tr>\n",
       "    <tr>\n",
       "      <th>14996</th>\n",
       "      <td>18087.0</td>\n",
       "      <td>29994.0</td>\n",
       "      <td>0.389219</td>\n",
       "      <td>14997.0</td>\n",
       "    </tr>\n",
       "    <tr>\n",
       "      <th>14997</th>\n",
       "      <td>18088.0</td>\n",
       "      <td>29995.0</td>\n",
       "      <td>0.406658</td>\n",
       "      <td>14999.0</td>\n",
       "    </tr>\n",
       "  </tbody>\n",
       "</table>\n",
       "<p>14998 rows × 4 columns</p>\n",
       "</div>"
      ],
      "text/plain": [
       "             0        1         2        3\n",
       "0          0.0  12000.0  0.000000      2.0\n",
       "1      14211.0  14999.0  0.000000      3.0\n",
       "2        242.0  12242.0  0.000000      2.0\n",
       "3      14453.0  15001.0  0.000000      3.0\n",
       "4       1883.0  14919.0  0.000000      2.0\n",
       "5        507.0  12507.0  0.000000      2.0\n",
       "6      14718.0  15004.0  0.000000      3.0\n",
       "7        589.0  12589.0  0.000000      2.0\n",
       "8      14800.0  15006.0  0.000000      3.0\n",
       "9       1915.0  14951.0  0.000000      2.0\n",
       "10       100.0  12100.0  0.000000      2.0\n",
       "11     14311.0  15009.0  0.000000      3.0\n",
       "12       209.0  12209.0  0.000000      2.0\n",
       "13     14420.0  15011.0  0.000000      3.0\n",
       "14       344.0  12344.0  0.000000      2.0\n",
       "15     14555.0  15013.0  0.000000      3.0\n",
       "16       326.0  12326.0  0.000000      2.0\n",
       "17     14537.0  15015.0  0.000000      3.0\n",
       "18      1962.0  14998.0  0.000000      2.0\n",
       "19         4.0  12004.0  0.000000      2.0\n",
       "20     14215.0  15018.0  0.000000      3.0\n",
       "21        95.0  12095.0  0.000000      2.0\n",
       "22     14306.0  15020.0  0.000000      3.0\n",
       "23      1844.0  14880.0  0.000000      2.0\n",
       "24       222.0  10671.0  0.000000      2.0\n",
       "25     12222.0  15023.0  0.000000      3.0\n",
       "26     12882.0  15024.0  0.000000      4.0\n",
       "27     14433.0  15025.0  0.000000      5.0\n",
       "28       215.0   1189.0  0.000000      2.0\n",
       "29     12215.0  15027.0  0.000000      3.0\n",
       "...        ...      ...       ...      ...\n",
       "14968   6708.0  29966.0  0.242141  14757.0\n",
       "14969  27950.0  29965.0  0.242618    184.0\n",
       "14970  18080.0  29922.0  0.242932      6.0\n",
       "14971  23886.0  29967.0  0.246503  14761.0\n",
       "14972  17972.0  29970.0  0.246817  14763.0\n",
       "14973   4691.0  29971.0  0.247254  14764.0\n",
       "14974    843.0  29972.0  0.250358  14765.0\n",
       "14975  17974.0  29973.0  0.251604  14768.0\n",
       "14976  29968.0  29974.0  0.253018  14952.0\n",
       "14977  29173.0  29975.0  0.254060  14956.0\n",
       "14978  18069.0  29976.0  0.258142  14958.0\n",
       "14979  18075.0  18076.0  0.262153      4.0\n",
       "14980  18070.0  29977.0  0.265405  14960.0\n",
       "14981  18071.0  29979.0  0.267091  14962.0\n",
       "14982  18072.0  29980.0  0.267646  14964.0\n",
       "14983  18078.0  18079.0  0.268995      4.0\n",
       "14984   7492.0  29981.0  0.270592  14965.0\n",
       "14985   2819.0  29983.0  0.274461  14966.0\n",
       "14986  18083.0  29969.0  0.283554      8.0\n",
       "14987  18073.0  29984.0  0.287450  14968.0\n",
       "14988  18077.0  29982.0  0.295980      6.0\n",
       "14989  29628.0  29986.0  0.306195  14971.0\n",
       "14990  29978.0  29988.0  0.312157  14975.0\n",
       "14991  29987.0  29989.0  0.328674  14981.0\n",
       "14992  29985.0  29990.0  0.328842  14989.0\n",
       "14993  18084.0  29991.0  0.334819  14991.0\n",
       "14994  18085.0  29992.0  0.345592  14993.0\n",
       "14995  18086.0  29993.0  0.350626  14995.0\n",
       "14996  18087.0  29994.0  0.389219  14997.0\n",
       "14997  18088.0  29995.0  0.406658  14999.0\n",
       "\n",
       "[14998 rows x 4 columns]"
      ]
     },
     "execution_count": 16,
     "metadata": {},
     "output_type": "execute_result"
    }
   ],
   "source": [
    "np.set_printoptions(precision=3)\n",
    "np.set_printoptions(suppress=True)\n",
    "pd.DataFrame(data_links['single'])"
   ]
  },
  {
   "cell_type": "markdown",
   "metadata": {},
   "source": [
    "## dendograms"
   ]
  },
  {
   "cell_type": "code",
   "execution_count": 35,
   "metadata": {},
   "outputs": [
    {
     "data": {
      "image/png": "[encoded data removed]",
      "text/plain": [
       "<matplotlib.figure.Figure at 0x7fd85b4b8750>"
      ]
     },
     "metadata": {},
     "output_type": "display_data"
    },
    {
     "data": {
      "image/png": "[encoded data removed]",
      "text/plain": [
       "<matplotlib.figure.Figure at 0x7fd85b3b2f50>"
      ]
     },
     "metadata": {},
     "output_type": "display_data"
    },
    {
     "data": {
      "image/png": "[encoded data removed]",
      "text/plain": [
       "<matplotlib.figure.Figure at 0x7fd85b38d810>"
      ]
     },
     "metadata": {},
     "output_type": "display_data"
    },
    {
     "data": {
      "image/png": "[encoded data removed]",
      "text/plain": [
       "<matplotlib.figure.Figure at 0x7fd85b310550>"
      ]
     },
     "metadata": {},
     "output_type": "display_data"
    },
    {
     "data": {
      "image/png": "[encoded data removed]",
      "text/plain": [
       "<matplotlib.figure.Figure at 0x7fd85b31b790>"
      ]
     },
     "metadata": {},
     "output_type": "display_data"
    }
   ],
   "source": [
    "# plot dendograms\n",
    "for method in data_links:\n",
    "    res = dendrogram(data_links[method], p=3, truncate_mode='level', orientation='left') #p=lev to show, truncate_mode=lastp/level\n",
    "    plt.xlabel('distance')\n",
    "    plt.title('Hierarchical clustering: ' + method + ' linkage')\n",
    "    plt.savefig('../images/hierarchical_clustering_' + method + '.png')\n",
    "    plt.show()"
   ]
  },
  {
   "cell_type": "markdown",
   "metadata": {
    "collapsed": true
   },
   "source": [
    "### performance of 'ward', 'complete' and 'average'"
   ]
  },
  {
   "cell_type": "code",
   "execution_count": 4,
   "metadata": {
    "collapsed": true
   },
   "outputs": [],
   "source": [
    "from sklearn.cluster import AgglomerativeClustering\n",
    "from sklearn.neighbors import kneighbors_graph"
   ]
  },
  {
   "cell_type": "code",
   "execution_count": 10,
   "metadata": {},
   "outputs": [
    {
     "data": {
      "text/plain": [
       "<14999x14999 sparse matrix of type '<type 'numpy.float64'>'\n",
       "\twith 14508 stored elements in Compressed Sparse Row format>"
      ]
     },
     "execution_count": 10,
     "metadata": {},
     "output_type": "execute_result"
    }
   ],
   "source": [
    "# hierarchical clustering\n",
    "connectivity = kneighbors_graph(train_data, n_neighbors=1, mode='distance', include_self=False, n_jobs=-1)\n",
    "connectivity = 0.5 * (connectivity + connectivity.T)\n",
    "connectivity"
   ]
  },
  {
   "cell_type": "code",
   "execution_count": null,
   "metadata": {
    "collapsed": true
   },
   "outputs": [],
   "source": [
    "# unstructured HAC algorithm\n",
    "connectivity=None"
   ]
  },
  {
   "cell_type": "markdown",
   "metadata": {},
   "source": [
    "#### ward"
   ]
  },
  {
   "cell_type": "code",
   "execution_count": 7,
   "metadata": {},
   "outputs": [
    {
     "name": "stdout",
     "output_type": "stream",
     "text": [
      "ward\n",
      "2 clusters:\n",
      "labels {0: 12562, 1: 2437}\n",
      "silhouette 0.294771689633\n",
      "3 clusters:\n",
      "labels {0: 10469, 1: 2437, 2: 2093}\n",
      "silhouette 0.251543489817\n",
      "4 clusters:\n",
      "labels {0: 6219, 1: 2437, 2: 2093, 3: 4250}\n",
      "silhouette 0.202635788767\n",
      "5 clusters:\n",
      "labels {0: 2437, 1: 2189, 2: 2093, 3: 4250, 4: 4030}\n",
      "silhouette 0.204409826241\n",
      "6 clusters:\n",
      "labels {0: 2189, 1: 4250, 2: 2093, 3: 1556, 4: 4030, 5: 881}\n",
      "silhouette 0.209425216512\n",
      "7 clusters:\n",
      "labels {0: 4250, 1: 4030, 2: 556, 3: 1556, 4: 1633, 5: 881, 6: 2093}\n",
      "silhouette 0.209807956909\n",
      "8 clusters:\n",
      "labels {0: 4030, 1: 1556, 2: 556, 3: 2429, 4: 1633, 5: 881, 6: 2093, 7: 1821}\n",
      "silhouette 0.203858957081\n",
      "9 clusters:\n",
      "labels {0: 1556, 1: 2093, 2: 556, 3: 2429, 4: 1633, 5: 881, 6: 2093, 7: 1821, 8: 1937}\n",
      "silhouette 0.201914504692\n"
     ]
    }
   ],
   "source": [
    "print 'ward'\n",
    "for i in range(2, 10):\n",
    "    ward = AgglomerativeClustering(n_clusters=i, linkage='ward', affinity='euclidean',\n",
    "                                   connectivity=connectivity)\n",
    "    ward.fit(train_data)\n",
    "\n",
    "    hist, bins = np.histogram(ward.labels_, bins=range(0, len(set(ward.labels_)) + 1))\n",
    "    print i, 'clusters:'\n",
    "    print 'labels', dict(zip(bins, hist))\n",
    "    print 'silhouette', silhouette_score(train_data, ward.labels_)"
   ]
  },
  {
   "cell_type": "markdown",
   "metadata": {},
   "source": [
    "#### complete"
   ]
  },
  {
   "cell_type": "markdown",
   "metadata": {},
   "source": [
    "#### complete"
   ]
  },
  {
   "cell_type": "code",
   "execution_count": 8,
   "metadata": {},
   "outputs": [
    {
     "name": "stdout",
     "output_type": "stream",
     "text": [
      "complete\n",
      "2 clusters:\n",
      "labels {0: 14995, 1: 4}\n",
      "silhouette 0.347698583237\n",
      "3 clusters:\n",
      "labels {0: 14994, 1: 4, 2: 1}\n",
      "silhouette 0.306628163968\n",
      "4 clusters:\n",
      "labels {0: 14993, 1: 4, 2: 1, 3: 1}\n",
      "silhouette"
     ]
    },
    {
     "name": "stderr",
     "output_type": "stream",
     "text": [
      "/home/carlo/anaconda2/lib/python2.7/site-packages/sklearn/metrics/cluster/unsupervised.py:205: RuntimeWarning: invalid value encountered in divide\n",
      "  sil_samples /= np.maximum(intra_clust_dists, inter_clust_dists)\n"
     ]
    },
    {
     "name": "stdout",
     "output_type": "stream",
     "text": [
      " 0.306727358737\n",
      "5 clusters:\n",
      "labels {0: 2867, 1: 12126, 2: 1, 3: 1, 4: 4}\n",
      "silhouette -0.0139968591383\n",
      "6 clusters:\n",
      "labels {0: 2262, 1: 12126, 2: 605, 3: 1, 4: 4, 5: 1}\n",
      "silhouette -0.0327341291056\n",
      "7 clusters:\n",
      "labels {0: 419, 1: 12126, 2: 605, 3: 1, 4: 4, 5: 1, 6: 1843}\n",
      "silhouette -0.0509212944172\n",
      "8 clusters:\n",
      "labels {0: 605, 1: 12126, 2: 1843, 3: 413, 4: 4, 5: 1, 6: 6, 7: 1}\n",
      "silhouette -0.0572874424966\n",
      "9 clusters:\n",
      "labels {0: 1843, 1: 12126, 2: 6, 3: 413, 4: 4, 5: 1, 6: 595, 7: 1, 8: 10}\n",
      "silhouette -0.0612945812045\n"
     ]
    }
   ],
   "source": [
    "print 'complete'\n",
    "for i in range(2, 10):\n",
    "    ward = AgglomerativeClustering(n_clusters=i, linkage='complete', affinity='euclidean',\n",
    "                                   connectivity=connectivity)\n",
    "    ward.fit(train_data)\n",
    "\n",
    "    hist, bins = np.histogram(ward.labels_, bins=range(0, len(set(ward.labels_)) + 1))\n",
    "    print i, 'clusters:'\n",
    "    print 'labels', dict(zip(bins, hist))\n",
    "    print 'silhouette', silhouette_score(train_data, ward.labels_)"
   ]
  },
  {
   "cell_type": "markdown",
   "metadata": {},
   "source": [
    "#### average"
   ]
  },
  {
   "cell_type": "code",
   "execution_count": 9,
   "metadata": {},
   "outputs": [
    {
     "name": "stdout",
     "output_type": "stream",
     "text": [
      "average\n",
      "2 clusters:\n",
      "labels {0: 14995, 1: 4}\n",
      "silhouette 0.347698583237\n",
      "3 clusters:\n",
      "labels {0: 32, 1: 4, 2: 14963}\n",
      "silhouette 0.290169475394\n",
      "4 clusters:\n",
      "labels {0: 12, 1: 20, 2: 14963, 3: 4}\n",
      "silhouette 0.276803686266\n",
      "5 clusters:\n",
      "labels {0: 14963, 1: 20, 2: 4, 3: 4, 4: 8}\n",
      "silhouette 0.267019147179\n",
      "6 clusters:\n",
      "labels {0: 20, 1: 14955, 2: 8, 3: 4, 4: 8, 5: 4}\n",
      "silhouette 0.237189633953\n",
      "7 clusters:\n",
      "labels {0: 14955, 1: 10, 2: 8, 3: 4, 4: 8, 5: 4, 6: 10}\n",
      "silhouette 0.221417838114\n",
      "8 clusters:\n",
      "labels {0: 14952, 1: 10, 2: 8, 3: 4, 4: 8, 5: 4, 6: 10, 7: 3}\n",
      "silhouette 0.201569989751\n",
      "9 clusters:\n",
      "labels {0: 14950, 1: 10, 2: 8, 3: 4, 4: 8, 5: 4, 6: 10, 7: 3, 8: 2}\n",
      "silhouette 0.149081009941\n"
     ]
    }
   ],
   "source": [
    "print 'average'\n",
    "for i in range(2, 10):\n",
    "    ward = AgglomerativeClustering(n_clusters=i, linkage='average', affinity='euclidean',\n",
    "                                   connectivity=connectivity)\n",
    "    ward.fit(train_data)\n",
    "\n",
    "    hist, bins = np.histogram(ward.labels_, bins=range(0, len(set(ward.labels_)) + 1))\n",
    "    print i, 'clusters:'\n",
    "    print 'labels', dict(zip(bins, hist))\n",
    "    print 'silhouette', silhouette_score(train_data, ward.labels_)"
   ]
  },
  {
   "cell_type": "markdown",
   "metadata": {
    "collapsed": true
   },
   "source": [
    "### annotated dendograms"
   ]
  },
  {
   "cell_type": "code",
   "execution_count": 33,
   "metadata": {
    "collapsed": true
   },
   "outputs": [],
   "source": [
    "def fancy_dendrogram(*args, **kwargs):\n",
    "    max_d = kwargs.pop('max_d', None)\n",
    "    if max_d and 'color_threshold' not in kwargs:\n",
    "        kwargs['color_threshold'] = max_d\n",
    "    annotate_above = kwargs.pop('annotate_above', 0)\n",
    "\n",
    "    ddata = dendrogram(*args, **kwargs)\n",
    "\n",
    "    if not kwargs.get('no_plot', False):\n",
    "        for i, d, c in zip(ddata['icoord'], ddata['dcoord'], ddata['color_list']):\n",
    "            y = 0.5 * sum(i[1:3])\n",
    "            x = d[1]\n",
    "            if y > annotate_above:\n",
    "                plt.plot(x, y, 'o', c=c)\n",
    "                plt.annotate(np.round(x,2), (x, y), xytext=(0, -5),\n",
    "                             textcoords='offset points',\n",
    "                             va='top', ha='center')\n",
    "        if max_d:\n",
    "            plt.axvline(x=max_d, c='k')\n",
    "    return ddata"
   ]
  },
  {
   "cell_type": "code",
   "execution_count": 39,
   "metadata": {},
   "outputs": [
    {
     "data": {
      "image/png": "[encoded data removed]",
      "text/plain": [
       "<matplotlib.figure.Figure at 0x7fd85b2ce650>"
      ]
     },
     "metadata": {},
     "output_type": "display_data"
    }
   ],
   "source": [
    "method='complete'\n",
    "res = fancy_dendrogram(data_links[method], p=3, truncate_mode='level', orientation='left',\n",
    "                annotate_above=10, max_d=1.85)\n",
    "plt.xlabel('distance')\n",
    "plt.title('Hierarchical clustering: ' + method + ' linkage')\n",
    "plt.savefig('../images/hierarchical_clustering_' + method + '-annotated.png')\n",
    "plt.show()"
   ]
  },
  {
   "cell_type": "code",
   "execution_count": 40,
   "metadata": {},
   "outputs": [
    {
     "data": {
      "image/png": "[encoded data removed]",
      "text/plain": [
       "<matplotlib.figure.Figure at 0x7fd85ba4ded0>"
      ]
     },
     "metadata": {},
     "output_type": "display_data"
    }
   ],
   "source": [
    "method='average'\n",
    "res = fancy_dendrogram(data_links[method], p=3, truncate_mode='level', orientation='left',\n",
    "                annotate_above=10, max_d=1)\n",
    "plt.xlabel('distance')\n",
    "plt.title('Hierarchical clustering: ' + method + ' linkage')\n",
    "plt.savefig('../images/hierarchical_clustering_' + method + '-annotated.png')\n",
    "plt.show()"
   ]
  },
  {
   "cell_type": "code",
   "execution_count": 41,
   "metadata": {},
   "outputs": [
    {
     "data": {
      "image/png": "[encoded data removed]",
      "text/plain": [
       "<matplotlib.figure.Figure at 0x7fd8639cd390>"
      ]
     },
     "metadata": {},
     "output_type": "display_data"
    }
   ],
   "source": [
    "method='ward'\n",
    "res = fancy_dendrogram(data_links[method], p=3, truncate_mode='level', orientation='left',\n",
    "                annotate_above=10, max_d=15)\n",
    "plt.xlabel('distance')\n",
    "plt.title('Hierarchical clustering: ' + method + ' linkage')\n",
    "plt.savefig('../images/hierarchical_clustering_' + method + '-annotated.png')\n",
    "plt.show()"
   ]
  },
  {
   "cell_type": "code",
   "execution_count": null,
   "metadata": {
    "collapsed": true
   },
   "outputs": [],
   "source": []
  }
 ],
 "metadata": {
  "kernelspec": {
   "display_name": "Python 2",
   "language": "python",
   "name": "python2"
  },
  "language_info": {
   "codemirror_mode": {
    "name": "ipython",
    "version": 2
   },
   "file_extension": ".py",
   "mimetype": "text/x-python",
   "name": "python",
   "nbconvert_exporter": "python",
   "pygments_lexer": "ipython2",
   "version": "2.7.14"
  }
 },
 "nbformat": 4,
 "nbformat_minor": 2
}
