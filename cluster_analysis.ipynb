{
 "cells": [
  {
   "cell_type": "markdown",
   "metadata": {},
   "source": [
    "# 2. Clustering Analysis"
   ]
  },
  {
   "cell_type": "code",
   "execution_count": 41,
   "metadata": {},
   "outputs": [],
   "source": [
    "from sklearn.metrics import *\n",
    "from sklearn.cluster import KMeans\n",
    "from sklearn.cluster import DBSCAN\n",
    "from sklearn.cluster import AgglomerativeClustering\n",
    "from sklearn.neighbors import kneighbors_graph\n",
    "from sklearn.decomposition import PCA\n",
    "import pandas as pd\n",
    "import numpy as np\n",
    "import matplotlib.pyplot as plt"
   ]
  },
  {
   "cell_type": "code",
   "execution_count": 42,
   "metadata": {},
   "outputs": [
    {
     "data": {
      "text/html": [
       "<div>\n",
       "<table border=\"1\" class=\"dataframe\">\n",
       "  <thead>\n",
       "    <tr style=\"text-align: right;\">\n",
       "      <th></th>\n",
       "      <th>satisfaction_level</th>\n",
       "      <th>last_evaluation</th>\n",
       "      <th>number_project</th>\n",
       "      <th>average_montly_hours</th>\n",
       "      <th>time_spend_company</th>\n",
       "      <th>Work_accident</th>\n",
       "      <th>left</th>\n",
       "      <th>promotion_last_5years</th>\n",
       "      <th>sales</th>\n",
       "      <th>salary</th>\n",
       "    </tr>\n",
       "  </thead>\n",
       "  <tbody>\n",
       "    <tr>\n",
       "      <th>0</th>\n",
       "      <td>0.318681</td>\n",
       "      <td>0.265625</td>\n",
       "      <td>0.0</td>\n",
       "      <td>0.285047</td>\n",
       "      <td>0.125</td>\n",
       "      <td>0.0</td>\n",
       "      <td>1.0</td>\n",
       "      <td>0.0</td>\n",
       "      <td>0.777778</td>\n",
       "      <td>0.5</td>\n",
       "    </tr>\n",
       "    <tr>\n",
       "      <th>1</th>\n",
       "      <td>0.780220</td>\n",
       "      <td>0.781250</td>\n",
       "      <td>0.6</td>\n",
       "      <td>0.775701</td>\n",
       "      <td>0.500</td>\n",
       "      <td>0.0</td>\n",
       "      <td>1.0</td>\n",
       "      <td>0.0</td>\n",
       "      <td>0.777778</td>\n",
       "      <td>1.0</td>\n",
       "    </tr>\n",
       "    <tr>\n",
       "      <th>2</th>\n",
       "      <td>0.021978</td>\n",
       "      <td>0.812500</td>\n",
       "      <td>1.0</td>\n",
       "      <td>0.822430</td>\n",
       "      <td>0.250</td>\n",
       "      <td>0.0</td>\n",
       "      <td>1.0</td>\n",
       "      <td>0.0</td>\n",
       "      <td>0.777778</td>\n",
       "      <td>1.0</td>\n",
       "    </tr>\n",
       "    <tr>\n",
       "      <th>3</th>\n",
       "      <td>0.692308</td>\n",
       "      <td>0.796875</td>\n",
       "      <td>0.6</td>\n",
       "      <td>0.593458</td>\n",
       "      <td>0.375</td>\n",
       "      <td>0.0</td>\n",
       "      <td>1.0</td>\n",
       "      <td>0.0</td>\n",
       "      <td>0.777778</td>\n",
       "      <td>0.5</td>\n",
       "    </tr>\n",
       "    <tr>\n",
       "      <th>4</th>\n",
       "      <td>0.307692</td>\n",
       "      <td>0.250000</td>\n",
       "      <td>0.0</td>\n",
       "      <td>0.294393</td>\n",
       "      <td>0.125</td>\n",
       "      <td>0.0</td>\n",
       "      <td>1.0</td>\n",
       "      <td>0.0</td>\n",
       "      <td>0.777778</td>\n",
       "      <td>0.5</td>\n",
       "    </tr>\n",
       "  </tbody>\n",
       "</table>\n",
       "</div>"
      ],
      "text/plain": [
       "   satisfaction_level  last_evaluation  number_project  average_montly_hours  \\\n",
       "0            0.318681         0.265625             0.0              0.285047   \n",
       "1            0.780220         0.781250             0.6              0.775701   \n",
       "2            0.021978         0.812500             1.0              0.822430   \n",
       "3            0.692308         0.796875             0.6              0.593458   \n",
       "4            0.307692         0.250000             0.0              0.294393   \n",
       "\n",
       "   time_spend_company  Work_accident  left  promotion_last_5years     sales  \\\n",
       "0               0.125            0.0   1.0                    0.0  0.777778   \n",
       "1               0.500            0.0   1.0                    0.0  0.777778   \n",
       "2               0.250            0.0   1.0                    0.0  0.777778   \n",
       "3               0.375            0.0   1.0                    0.0  0.777778   \n",
       "4               0.125            0.0   1.0                    0.0  0.777778   \n",
       "\n",
       "   salary  \n",
       "0     0.5  \n",
       "1     1.0  \n",
       "2     1.0  \n",
       "3     0.5  \n",
       "4     0.5  "
      ]
     },
     "execution_count": 42,
     "metadata": {},
     "output_type": "execute_result"
    }
   ],
   "source": [
    "df_01_scaled = pd.read_csv('data/HR_comma_sep_01_scaled.csv', index_col=0)\n",
    "# choice of attributes , Euclidean distance\n",
    "train_data = np.array(df_01_scaled)\n",
    "df_01_scaled.head()"
   ]
  },
  {
   "cell_type": "markdown",
   "metadata": {},
   "source": [
    "## Kmeans"
   ]
  },
  {
   "cell_type": "markdown",
   "metadata": {},
   "source": [
    "### choice of best value of k"
   ]
  },
  {
   "cell_type": "code",
   "execution_count": 44,
   "metadata": {},
   "outputs": [],
   "source": [
    "# choice of best value of  K that minimized the sum of squared error\n",
    "sse_list = list([0] * 48)\n",
    "#silhouette_list = list()\n",
    "max_k = 50\n",
    "#plt.figure((12,6))\n",
    "\n",
    "for k in range(2, max_k + 1):\n",
    "    kmeans = KMeans(init='k-means++', n_clusters=k, n_init=10, max_iter=100)\n",
    "    kmeans.fit(train_data)\n",
    "    sse_list.append(kmeans.inertia_)\n",
    "    #silhouette_list.append(silhouette_score(train_data, kmeans.labels_))\n",
    "    "
   ]
  },
  {
   "cell_type": "code",
   "execution_count": null,
   "metadata": {},
   "outputs": [],
   "source": [
    "# plot SSE and silhouette on the same scale\n",
    "# first axis\n",
    "fig, ax1 = plt.subplots()\n",
    "ax1.plot(range(2, max_k), sse_list, 'b')\n",
    "ax1.set_xlabel('K')\n",
    "ax1.set_ylabel('SSE', color='b')\n",
    "ax1.tick_params('y', colors='b')\n",
    "# second axis\n",
    "ax2 = ax1.twinx()\n",
    "ax2.plot(range(2, max_k), silhouette_list, 'orange')\n",
    "ax2.set_ylabel('Silhouette score', color='orange')\n",
    "ax2.tick_params('y', colors='orange')\n",
    "\n",
    "plt.title('K-Means: Sum of Squared Error vs Number of Clusters')\n",
    "fig.tight_layout()\n",
    "plt.show()\n",
    "plt.savefig('images/sse_silhouette_vs_k')\n",
    "# a way to chose the best k is to look at the 'elbow point' that is the point where the sse drops significantly."
   ]
  },
  {
   "cell_type": "code",
   "execution_count": null,
   "metadata": {},
   "outputs": [],
   "source": [
    "# analysis of the k centroids for a chosen k\n",
    "kmeans = KMeans(n_clusters=5)\n",
    "kmeans.fit(train_data)"
   ]
  },
  {
   "cell_type": "code",
   "execution_count": null,
   "metadata": {},
   "outputs": [],
   "source": [
    "# 2D PCA highlighting the clusters\n",
    "pca = PCA(n_components=2)\n",
    "X_scaled_2D = pca.fit_transform(df_01_scaled)\n",
    "colors = ['c', 'm', 'g', 'r', 'k', 'y', 'k', 'b']\n",
    "for i in range(0, X_scaled_2D.shape[0]):\n",
    "    if kmeans.labels_[i] == 0:\n",
    "        c1 = plt.scatter(X_scaled_2D[i, 0], X_scaled_2D[i, 1], c='c')\n",
    "    elif kmeans.labels_[i] == 1:\n",
    "        c2 = plt.scatter(X_scaled_2D[i, 0], X_scaled_2D[i, 1], c='m')\n",
    "    elif kmeans.labels_[i] == 2:\n",
    "        c3 = plt.scatter(X_scaled_2D[i, 0], X_scaled_2D[i, 1], c='g')\n",
    "    elif kmeans.labels_[i] == 3:\n",
    "        c4 = plt.scatter(X_scaled_2D[i, 0], X_scaled_2D[i, 1], c='r')\n",
    "    elif kmeans.labels_[i] == 4:\n",
    "        c5 = plt.scatter(X_scaled_2D[i, 0], X_scaled_2D[i, 1], c='y')\n",
    "\n",
    "plt.legend([c1, c2, c3, c4, c5], ['Cluster 1', 'Cluster 2', 'Cluster 3', 'Cluster 4', 'Cluster 5'])\n",
    "plt.title('2D-PCA combined with K-means')\n",
    "plt.show()\n",
    "plt.savefig('images/pca_kmeans.png')\n",
    "# TODO plot centroids"
   ]
  },
  {
   "cell_type": "markdown",
   "metadata": {},
   "source": [
    "## Analysis of k centroids"
   ]
  },
  {
   "cell_type": "code",
   "execution_count": null,
   "metadata": {},
   "outputs": [],
   "source": [
    "plt.figure(1, figsize=(20, 10))\n",
    "for i in range(0, len(kmeans.cluster_centers_)):\n",
    "    plt.plot(range(0, train_data.shape[1]), kmeans.cluster_centers_[i], label='Cluster %s' % i, linewidth=3)\n",
    "plt.xticks(range(0, train_data.shape[1]), list(df_01_scaled.columns))\n",
    "plt.legend()\n",
    "plt.show()\n",
    "plt.savefig('images/k-centroids_analysis')"
   ]
  },
  {
   "cell_type": "code",
   "execution_count": null,
   "metadata": {},
   "outputs": [],
   "source": []
  },
  {
   "cell_type": "code",
   "execution_count": null,
   "metadata": {},
   "outputs": [],
   "source": []
  }
 ],
 "metadata": {
  "kernelspec": {
   "display_name": "Python 2",
   "language": "python",
   "name": "python2"
  },
  "language_info": {
   "codemirror_mode": {
    "name": "ipython",
    "version": 2
   },
   "file_extension": ".py",
   "mimetype": "text/x-python",
   "name": "python",
   "nbconvert_exporter": "python",
   "pygments_lexer": "ipython2",
   "version": "2.7.13"
  }
 },
 "nbformat": 4,
 "nbformat_minor": 2
}
