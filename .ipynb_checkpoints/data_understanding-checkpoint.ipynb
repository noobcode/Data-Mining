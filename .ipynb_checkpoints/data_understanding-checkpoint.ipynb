{
 "cells": [
  {
   "cell_type": "code",
   "execution_count": 34,
   "metadata": {},
   "outputs": [],
   "source": [
    "%matplotlib inline\n",
    "import pandas as pd\n",
    "import matplotlib.pyplot as plt\n",
    "import numpy as np\n",
    "import itertools\n",
    "from sklearn.preprocessing import MinMaxScaler\n",
    "from sklearn.decomposition import PCA"
   ]
  },
  {
   "cell_type": "code",
   "execution_count": 2,
   "metadata": {},
   "outputs": [],
   "source": [
    "df = pd.read_csv(\"data/HR_comma_sep.csv\")"
   ]
  },
  {
   "cell_type": "markdown",
   "metadata": {},
   "source": [
    "# Data Semantics"
   ]
  },
  {
   "cell_type": "code",
   "execution_count": 3,
   "metadata": {},
   "outputs": [
    {
     "name": "stdout",
     "output_type": "stream",
     "text": [
      "<class 'pandas.core.frame.DataFrame'>\n",
      "RangeIndex: 14999 entries, 0 to 14998\n",
      "Data columns (total 10 columns):\n",
      "satisfaction_level       14999 non-null float64\n",
      "last_evaluation          14999 non-null float64\n",
      "number_project           14999 non-null int64\n",
      "average_montly_hours     14999 non-null int64\n",
      "time_spend_company       14999 non-null int64\n",
      "Work_accident            14999 non-null int64\n",
      "left                     14999 non-null int64\n",
      "promotion_last_5years    14999 non-null int64\n",
      "sales                    14999 non-null object\n",
      "salary                   14999 non-null object\n",
      "dtypes: float64(2), int64(6), object(2)\n",
      "memory usage: 1.1+ MB\n"
     ]
    }
   ],
   "source": [
    "df.info()"
   ]
  },
  {
   "cell_type": "markdown",
   "metadata": {},
   "source": [
    "# Distributions of the Variables and Statistics"
   ]
  },
  {
   "cell_type": "code",
   "execution_count": 4,
   "metadata": {},
   "outputs": [
    {
     "data": {
      "text/html": [
       "<div>\n",
       "<table border=\"1\" class=\"dataframe\">\n",
       "  <thead>\n",
       "    <tr style=\"text-align: right;\">\n",
       "      <th></th>\n",
       "      <th>satisfaction_level</th>\n",
       "      <th>last_evaluation</th>\n",
       "      <th>number_project</th>\n",
       "      <th>average_montly_hours</th>\n",
       "      <th>time_spend_company</th>\n",
       "      <th>Work_accident</th>\n",
       "      <th>left</th>\n",
       "      <th>promotion_last_5years</th>\n",
       "    </tr>\n",
       "  </thead>\n",
       "  <tbody>\n",
       "    <tr>\n",
       "      <th>count</th>\n",
       "      <td>14999.000000</td>\n",
       "      <td>14999.000000</td>\n",
       "      <td>14999.000000</td>\n",
       "      <td>14999.000000</td>\n",
       "      <td>14999.000000</td>\n",
       "      <td>14999.000000</td>\n",
       "      <td>14999.000000</td>\n",
       "      <td>14999.000000</td>\n",
       "    </tr>\n",
       "    <tr>\n",
       "      <th>mean</th>\n",
       "      <td>0.612834</td>\n",
       "      <td>0.716102</td>\n",
       "      <td>3.803054</td>\n",
       "      <td>201.050337</td>\n",
       "      <td>3.498233</td>\n",
       "      <td>0.144610</td>\n",
       "      <td>0.238083</td>\n",
       "      <td>0.021268</td>\n",
       "    </tr>\n",
       "    <tr>\n",
       "      <th>std</th>\n",
       "      <td>0.248631</td>\n",
       "      <td>0.171169</td>\n",
       "      <td>1.232592</td>\n",
       "      <td>49.943099</td>\n",
       "      <td>1.460136</td>\n",
       "      <td>0.351719</td>\n",
       "      <td>0.425924</td>\n",
       "      <td>0.144281</td>\n",
       "    </tr>\n",
       "    <tr>\n",
       "      <th>min</th>\n",
       "      <td>0.090000</td>\n",
       "      <td>0.360000</td>\n",
       "      <td>2.000000</td>\n",
       "      <td>96.000000</td>\n",
       "      <td>2.000000</td>\n",
       "      <td>0.000000</td>\n",
       "      <td>0.000000</td>\n",
       "      <td>0.000000</td>\n",
       "    </tr>\n",
       "    <tr>\n",
       "      <th>25%</th>\n",
       "      <td>0.440000</td>\n",
       "      <td>0.560000</td>\n",
       "      <td>3.000000</td>\n",
       "      <td>156.000000</td>\n",
       "      <td>3.000000</td>\n",
       "      <td>0.000000</td>\n",
       "      <td>0.000000</td>\n",
       "      <td>0.000000</td>\n",
       "    </tr>\n",
       "    <tr>\n",
       "      <th>50%</th>\n",
       "      <td>0.640000</td>\n",
       "      <td>0.720000</td>\n",
       "      <td>4.000000</td>\n",
       "      <td>200.000000</td>\n",
       "      <td>3.000000</td>\n",
       "      <td>0.000000</td>\n",
       "      <td>0.000000</td>\n",
       "      <td>0.000000</td>\n",
       "    </tr>\n",
       "    <tr>\n",
       "      <th>75%</th>\n",
       "      <td>0.820000</td>\n",
       "      <td>0.870000</td>\n",
       "      <td>5.000000</td>\n",
       "      <td>245.000000</td>\n",
       "      <td>4.000000</td>\n",
       "      <td>0.000000</td>\n",
       "      <td>0.000000</td>\n",
       "      <td>0.000000</td>\n",
       "    </tr>\n",
       "    <tr>\n",
       "      <th>max</th>\n",
       "      <td>1.000000</td>\n",
       "      <td>1.000000</td>\n",
       "      <td>7.000000</td>\n",
       "      <td>310.000000</td>\n",
       "      <td>10.000000</td>\n",
       "      <td>1.000000</td>\n",
       "      <td>1.000000</td>\n",
       "      <td>1.000000</td>\n",
       "    </tr>\n",
       "  </tbody>\n",
       "</table>\n",
       "</div>"
      ],
      "text/plain": [
       "       satisfaction_level  last_evaluation  number_project  \\\n",
       "count        14999.000000     14999.000000    14999.000000   \n",
       "mean             0.612834         0.716102        3.803054   \n",
       "std              0.248631         0.171169        1.232592   \n",
       "min              0.090000         0.360000        2.000000   \n",
       "25%              0.440000         0.560000        3.000000   \n",
       "50%              0.640000         0.720000        4.000000   \n",
       "75%              0.820000         0.870000        5.000000   \n",
       "max              1.000000         1.000000        7.000000   \n",
       "\n",
       "       average_montly_hours  time_spend_company  Work_accident          left  \\\n",
       "count          14999.000000        14999.000000   14999.000000  14999.000000   \n",
       "mean             201.050337            3.498233       0.144610      0.238083   \n",
       "std               49.943099            1.460136       0.351719      0.425924   \n",
       "min               96.000000            2.000000       0.000000      0.000000   \n",
       "25%              156.000000            3.000000       0.000000      0.000000   \n",
       "50%              200.000000            3.000000       0.000000      0.000000   \n",
       "75%              245.000000            4.000000       0.000000      0.000000   \n",
       "max              310.000000           10.000000       1.000000      1.000000   \n",
       "\n",
       "       promotion_last_5years  \n",
       "count           14999.000000  \n",
       "mean                0.021268  \n",
       "std                 0.144281  \n",
       "min                 0.000000  \n",
       "25%                 0.000000  \n",
       "50%                 0.000000  \n",
       "75%                 0.000000  \n",
       "max                 1.000000  "
      ]
     },
     "execution_count": 4,
     "metadata": {},
     "output_type": "execute_result"
    }
   ],
   "source": [
    "df.describe()"
   ]
  },
  {
   "cell_type": "code",
   "execution_count": 5,
   "metadata": {},
   "outputs": [
    {
     "data": {
      "text/html": [
       "<div>\n",
       "<table border=\"1\" class=\"dataframe\">\n",
       "  <thead>\n",
       "    <tr style=\"text-align: right;\">\n",
       "      <th></th>\n",
       "      <th>satisfaction_level</th>\n",
       "      <th>last_evaluation</th>\n",
       "      <th>number_project</th>\n",
       "      <th>average_montly_hours</th>\n",
       "      <th>time_spend_company</th>\n",
       "      <th>Work_accident</th>\n",
       "      <th>left</th>\n",
       "      <th>promotion_last_5years</th>\n",
       "      <th>sales</th>\n",
       "      <th>salary</th>\n",
       "    </tr>\n",
       "  </thead>\n",
       "  <tbody>\n",
       "    <tr>\n",
       "      <th>3299</th>\n",
       "      <td>0.79</td>\n",
       "      <td>0.53</td>\n",
       "      <td>2</td>\n",
       "      <td>217</td>\n",
       "      <td>2</td>\n",
       "      <td>0</td>\n",
       "      <td>0</td>\n",
       "      <td>0</td>\n",
       "      <td>sales</td>\n",
       "      <td>medium</td>\n",
       "    </tr>\n",
       "    <tr>\n",
       "      <th>6760</th>\n",
       "      <td>0.94</td>\n",
       "      <td>0.60</td>\n",
       "      <td>5</td>\n",
       "      <td>278</td>\n",
       "      <td>2</td>\n",
       "      <td>0</td>\n",
       "      <td>0</td>\n",
       "      <td>0</td>\n",
       "      <td>technical</td>\n",
       "      <td>low</td>\n",
       "    </tr>\n",
       "    <tr>\n",
       "      <th>13646</th>\n",
       "      <td>0.54</td>\n",
       "      <td>0.52</td>\n",
       "      <td>4</td>\n",
       "      <td>173</td>\n",
       "      <td>2</td>\n",
       "      <td>0</td>\n",
       "      <td>0</td>\n",
       "      <td>0</td>\n",
       "      <td>marketing</td>\n",
       "      <td>medium</td>\n",
       "    </tr>\n",
       "    <tr>\n",
       "      <th>4028</th>\n",
       "      <td>0.78</td>\n",
       "      <td>0.72</td>\n",
       "      <td>3</td>\n",
       "      <td>255</td>\n",
       "      <td>4</td>\n",
       "      <td>1</td>\n",
       "      <td>0</td>\n",
       "      <td>0</td>\n",
       "      <td>management</td>\n",
       "      <td>low</td>\n",
       "    </tr>\n",
       "    <tr>\n",
       "      <th>12347</th>\n",
       "      <td>0.11</td>\n",
       "      <td>0.80</td>\n",
       "      <td>6</td>\n",
       "      <td>282</td>\n",
       "      <td>4</td>\n",
       "      <td>0</td>\n",
       "      <td>1</td>\n",
       "      <td>0</td>\n",
       "      <td>technical</td>\n",
       "      <td>medium</td>\n",
       "    </tr>\n",
       "  </tbody>\n",
       "</table>\n",
       "</div>"
      ],
      "text/plain": [
       "       satisfaction_level  last_evaluation  number_project  \\\n",
       "3299                 0.79             0.53               2   \n",
       "6760                 0.94             0.60               5   \n",
       "13646                0.54             0.52               4   \n",
       "4028                 0.78             0.72               3   \n",
       "12347                0.11             0.80               6   \n",
       "\n",
       "       average_montly_hours  time_spend_company  Work_accident  left  \\\n",
       "3299                    217                   2              0     0   \n",
       "6760                    278                   2              0     0   \n",
       "13646                   173                   2              0     0   \n",
       "4028                    255                   4              1     0   \n",
       "12347                   282                   4              0     1   \n",
       "\n",
       "       promotion_last_5years       sales  salary  \n",
       "3299                       0       sales  medium  \n",
       "6760                       0   technical     low  \n",
       "13646                      0   marketing  medium  \n",
       "4028                       0  management     low  \n",
       "12347                      0   technical  medium  "
      ]
     },
     "execution_count": 5,
     "metadata": {},
     "output_type": "execute_result"
    }
   ],
   "source": [
    "df.sample(5)"
   ]
  },
  {
   "cell_type": "code",
   "execution_count": 6,
   "metadata": {},
   "outputs": [
    {
     "name": "stdout",
     "output_type": "stream",
     "text": [
      "satisfaction_level unique values:\n",
      "[ 0.38  0.8   0.11  0.72  0.37  0.41  0.1   0.92  0.89  0.42  0.45  0.84\n",
      "  0.36  0.78  0.76  0.09  0.46  0.4   0.82  0.87  0.57  0.43  0.13  0.44\n",
      "  0.39  0.85  0.81  0.9   0.74  0.79  0.17  0.24  0.91  0.71  0.86  0.14\n",
      "  0.75  0.7   0.31  0.73  0.83  0.32  0.54  0.27  0.77  0.88  0.48  0.19\n",
      "  0.6   0.12  0.61  0.33  0.56  0.47  0.28  0.55  0.53  0.59  0.66  0.25\n",
      "  0.34  0.58  0.51  0.35  0.64  0.5   0.23  0.15  0.49  0.3   0.63  0.21\n",
      "  0.62  0.29  0.2   0.16  0.65  0.68  0.67  0.22  0.26  0.99  0.98  1.\n",
      "  0.52  0.93  0.97  0.69  0.94  0.96  0.18  0.95]\n",
      "last_evaluation unique values:\n",
      "[ 0.53  0.86  0.88  0.87  0.52  0.5   0.77  0.85  1.    0.54  0.81  0.92\n",
      "  0.55  0.56  0.47  0.99  0.51  0.89  0.83  0.95  0.57  0.49  0.46  0.62\n",
      "  0.94  0.48  0.8   0.74  0.7   0.78  0.91  0.93  0.98  0.97  0.79  0.59\n",
      "  0.84  0.45  0.96  0.68  0.82  0.9   0.71  0.6   0.65  0.58  0.72  0.67\n",
      "  0.75  0.73  0.63  0.61  0.76  0.66  0.69  0.37  0.64  0.39  0.41  0.43\n",
      "  0.44  0.36  0.38  0.4   0.42]\n",
      "number_project unique values:\n",
      "[2 5 7 6 4 3]\n",
      "average_montly_hours unique values:\n",
      "[157 262 272 223 159 153 247 259 224 142 135 305 234 148 137 143 160 255\n",
      " 282 147 304 139 158 242 239 128 132 294 134 145 140 246 126 306 152 269\n",
      " 127 281 276 182 273 307 309 225 226 308 244 286 161 264 277 275 149 295\n",
      " 151 249 291 232 130 129 155 265 279 284 221 154 150 267 257 177 144 289\n",
      " 258 263 251 133 216 300 138 260 183 250 292 283 245 256 278 240 136 301\n",
      " 243 296 274 164 146 261 285 141 297 156 287 219 254 228 131 252 236 270\n",
      " 298 192 248 266 238 229 233 268 231 253 302 271 290 235 293 241 218 199\n",
      " 180 195 237 227 172 206 181 217 310 214 198 211 222 213 202 184 204 288\n",
      " 220 299 303 212 196 179 205 230 203 280 169 188 178 175 166 163 168 165\n",
      " 189 162 215 193 176 191 174 201 208 171 111 104 106 100 194 209 185 200\n",
      " 207 187 210 186 167 108 122 110 115 197 102 109 190  99 101  97 173 121\n",
      " 170 105 118 119 117 114  96  98 107 123 116 125 113 120 112 124 103]\n",
      "time_spend_company unique values:\n",
      "[ 3  6  4  5  2  8 10  7]\n",
      "Work_accident unique values:\n",
      "[0 1]\n",
      "left unique values:\n",
      "[1 0]\n",
      "promotion_last_5years unique values:\n",
      "[0 1]\n",
      "sales unique values:\n",
      "['sales' 'accounting' 'hr' 'technical' 'support' 'management' 'IT'\n",
      " 'product_mng' 'marketing' 'RandD']\n",
      "salary unique values:\n",
      "['low' 'medium' 'high']\n"
     ]
    }
   ],
   "source": [
    "# print unique values of features\n",
    "for col in df:\n",
    "    print col + \" unique values:\"\n",
    "    print df[col].unique()"
   ]
  },
  {
   "cell_type": "code",
   "execution_count": 7,
   "metadata": {},
   "outputs": [
    {
     "data": {
      "text/plain": [
       "Index([u'satisfaction_level', u'last_evaluation', u'number_project',\n",
       "       u'average_montly_hours', u'time_spend_company', u'Work_accident',\n",
       "       u'left', u'promotion_last_5years', u'sales', u'salary'],\n",
       "      dtype='object')"
      ]
     },
     "execution_count": 7,
     "metadata": {},
     "output_type": "execute_result"
    }
   ],
   "source": [
    "df.columns"
   ]
  },
  {
   "cell_type": "code",
   "execution_count": 8,
   "metadata": {},
   "outputs": [],
   "source": [
    "# divide the features in numerical and categorical\n",
    "numerical_features = ['satisfaction_level', 'last_evaluation', 'number_project', 'average_montly_hours', 'time_spend_company']\n",
    "categorical_features = ['Work_accident', 'left', 'promotion_last_5years', 'sales', 'salary']\n",
    "numerical_df = df[numerical_features]\n",
    "categorical_df = df[categorical_features]"
   ]
  },
  {
   "cell_type": "code",
   "execution_count": 9,
   "metadata": {},
   "outputs": [
    {
     "data": {
      "text/html": [
       "<div>\n",
       "<table border=\"1\" class=\"dataframe\">\n",
       "  <thead>\n",
       "    <tr style=\"text-align: right;\">\n",
       "      <th></th>\n",
       "      <th>satisfaction_level</th>\n",
       "      <th>last_evaluation</th>\n",
       "      <th>number_project</th>\n",
       "      <th>average_montly_hours</th>\n",
       "      <th>time_spend_company</th>\n",
       "    </tr>\n",
       "  </thead>\n",
       "  <tbody>\n",
       "    <tr>\n",
       "      <th>10591</th>\n",
       "      <td>0.98</td>\n",
       "      <td>0.79</td>\n",
       "      <td>5</td>\n",
       "      <td>257</td>\n",
       "      <td>4</td>\n",
       "    </tr>\n",
       "    <tr>\n",
       "      <th>7419</th>\n",
       "      <td>0.77</td>\n",
       "      <td>0.57</td>\n",
       "      <td>4</td>\n",
       "      <td>238</td>\n",
       "      <td>3</td>\n",
       "    </tr>\n",
       "    <tr>\n",
       "      <th>1644</th>\n",
       "      <td>0.83</td>\n",
       "      <td>1.00</td>\n",
       "      <td>5</td>\n",
       "      <td>224</td>\n",
       "      <td>5</td>\n",
       "    </tr>\n",
       "    <tr>\n",
       "      <th>11725</th>\n",
       "      <td>0.16</td>\n",
       "      <td>0.63</td>\n",
       "      <td>6</td>\n",
       "      <td>286</td>\n",
       "      <td>7</td>\n",
       "    </tr>\n",
       "    <tr>\n",
       "      <th>7258</th>\n",
       "      <td>0.82</td>\n",
       "      <td>0.90</td>\n",
       "      <td>3</td>\n",
       "      <td>227</td>\n",
       "      <td>3</td>\n",
       "    </tr>\n",
       "  </tbody>\n",
       "</table>\n",
       "</div>"
      ],
      "text/plain": [
       "       satisfaction_level  last_evaluation  number_project  \\\n",
       "10591                0.98             0.79               5   \n",
       "7419                 0.77             0.57               4   \n",
       "1644                 0.83             1.00               5   \n",
       "11725                0.16             0.63               6   \n",
       "7258                 0.82             0.90               3   \n",
       "\n",
       "       average_montly_hours  time_spend_company  \n",
       "10591                   257                   4  \n",
       "7419                    238                   3  \n",
       "1644                    224                   5  \n",
       "11725                   286                   7  \n",
       "7258                    227                   3  "
      ]
     },
     "execution_count": 9,
     "metadata": {},
     "output_type": "execute_result"
    }
   ],
   "source": [
    "numerical_df.sample(5)"
   ]
  },
  {
   "cell_type": "code",
   "execution_count": 10,
   "metadata": {},
   "outputs": [
    {
     "data": {
      "text/html": [
       "<div>\n",
       "<table border=\"1\" class=\"dataframe\">\n",
       "  <thead>\n",
       "    <tr style=\"text-align: right;\">\n",
       "      <th></th>\n",
       "      <th>Work_accident</th>\n",
       "      <th>left</th>\n",
       "      <th>promotion_last_5years</th>\n",
       "      <th>sales</th>\n",
       "      <th>salary</th>\n",
       "    </tr>\n",
       "  </thead>\n",
       "  <tbody>\n",
       "    <tr>\n",
       "      <th>2119</th>\n",
       "      <td>0</td>\n",
       "      <td>0</td>\n",
       "      <td>0</td>\n",
       "      <td>technical</td>\n",
       "      <td>low</td>\n",
       "    </tr>\n",
       "    <tr>\n",
       "      <th>14200</th>\n",
       "      <td>0</td>\n",
       "      <td>0</td>\n",
       "      <td>0</td>\n",
       "      <td>product_mng</td>\n",
       "      <td>low</td>\n",
       "    </tr>\n",
       "    <tr>\n",
       "      <th>13137</th>\n",
       "      <td>0</td>\n",
       "      <td>0</td>\n",
       "      <td>0</td>\n",
       "      <td>sales</td>\n",
       "      <td>low</td>\n",
       "    </tr>\n",
       "    <tr>\n",
       "      <th>6899</th>\n",
       "      <td>1</td>\n",
       "      <td>0</td>\n",
       "      <td>0</td>\n",
       "      <td>accounting</td>\n",
       "      <td>medium</td>\n",
       "    </tr>\n",
       "    <tr>\n",
       "      <th>9189</th>\n",
       "      <td>0</td>\n",
       "      <td>0</td>\n",
       "      <td>0</td>\n",
       "      <td>hr</td>\n",
       "      <td>medium</td>\n",
       "    </tr>\n",
       "  </tbody>\n",
       "</table>\n",
       "</div>"
      ],
      "text/plain": [
       "       Work_accident  left  promotion_last_5years        sales  salary\n",
       "2119               0     0                      0    technical     low\n",
       "14200              0     0                      0  product_mng     low\n",
       "13137              0     0                      0        sales     low\n",
       "6899               1     0                      0   accounting  medium\n",
       "9189               0     0                      0           hr  medium"
      ]
     },
     "execution_count": 10,
     "metadata": {},
     "output_type": "execute_result"
    }
   ],
   "source": [
    "categorical_df.sample(5)"
   ]
  },
  {
   "cell_type": "code",
   "execution_count": 11,
   "metadata": {},
   "outputs": [
    {
     "data": {
      "image/png": "[encoded data removed]",
      "text/plain": [
       "<matplotlib.figure.Figure at 0x7f248d918890>"
      ]
     },
     "execution_count": 11,
     "metadata": {},
     "output_type": "execute_result"
    }
   ],
   "source": [
    "# plot histograms for numerical features and bar charts for categorical features\n",
    "\n",
    "# Set up a grid of plots\n",
    "fig = plt.figure(figsize=(10, 10)) \n",
    "fig_dims = (3, 2)\n",
    "\n",
    "positions = itertools.product(range(3), range(2))\n",
    "\n",
    "# plot bar charts\n",
    "for col, pos in zip(categorical_df, positions) :\n",
    "    plt.subplot2grid(fig_dims, pos)\n",
    "    categorical_df[col].value_counts().plot(kind='bar', title= col + ' Counts')\n",
    "    #plt.xticks(rotation=0) \n",
    "\n",
    "fig"
   ]
  },
  {
   "cell_type": "code",
   "execution_count": 12,
   "metadata": {},
   "outputs": [
    {
     "name": "stderr",
     "output_type": "stream",
     "text": [
      "/home/carlo/anaconda2/lib/python2.7/site-packages/numpy/lib/function_base.py:564: VisibleDeprecationWarning: using a non-integer number instead of an integer will result in an error in the future\n",
      "  n = np.zeros(bins, ntype)\n",
      "/home/carlo/anaconda2/lib/python2.7/site-packages/numpy/lib/function_base.py:611: VisibleDeprecationWarning: using a non-integer number instead of an integer will result in an error in the future\n",
      "  n += np.bincount(indices, weights=tmp_w, minlength=bins).astype(ntype)\n"
     ]
    },
    {
     "data": {
      "image/png": "[encoded data removed]",
      "text/plain": [
       "<matplotlib.figure.Figure at 0x7f248b37b850>"
      ]
     },
     "execution_count": 12,
     "metadata": {},
     "output_type": "execute_result"
    }
   ],
   "source": [
    "fig = plt.figure(figsize=(10, 10)) \n",
    "positions = itertools.product(range(3), range(2))\n",
    "\n",
    "# plot histograms -- Sturge's rule for the number of bins\n",
    "for col, pos in zip(numerical_df, positions):\n",
    "    plt.subplot2grid(fig_dims, pos)\n",
    "    numerical_df[col].hist(bins=(np.ceil(np.log2(len(numerical_df[col])) + 1)))\n",
    "    plt.ylabel('Frequency')\n",
    "    plt.xlabel(col)\n",
    "\n",
    "fig"
   ]
  },
  {
   "cell_type": "markdown",
   "metadata": {},
   "source": [
    "### transform categorical features to numerical features"
   ]
  },
  {
   "cell_type": "code",
   "execution_count": 13,
   "metadata": {},
   "outputs": [
    {
     "data": {
      "text/html": [
       "<div>\n",
       "<table border=\"1\" class=\"dataframe\">\n",
       "  <thead>\n",
       "    <tr style=\"text-align: right;\">\n",
       "      <th></th>\n",
       "      <th>satisfaction_level</th>\n",
       "      <th>last_evaluation</th>\n",
       "      <th>number_project</th>\n",
       "      <th>average_montly_hours</th>\n",
       "      <th>time_spend_company</th>\n",
       "      <th>Work_accident</th>\n",
       "      <th>left</th>\n",
       "      <th>promotion_last_5years</th>\n",
       "      <th>sales</th>\n",
       "      <th>salary</th>\n",
       "    </tr>\n",
       "  </thead>\n",
       "  <tbody>\n",
       "    <tr>\n",
       "      <th>3985</th>\n",
       "      <td>0.55</td>\n",
       "      <td>0.64</td>\n",
       "      <td>3</td>\n",
       "      <td>138</td>\n",
       "      <td>3</td>\n",
       "      <td>1</td>\n",
       "      <td>0</td>\n",
       "      <td>0</td>\n",
       "      <td>7</td>\n",
       "      <td>1</td>\n",
       "    </tr>\n",
       "    <tr>\n",
       "      <th>2440</th>\n",
       "      <td>0.80</td>\n",
       "      <td>0.75</td>\n",
       "      <td>3</td>\n",
       "      <td>181</td>\n",
       "      <td>3</td>\n",
       "      <td>0</td>\n",
       "      <td>0</td>\n",
       "      <td>0</td>\n",
       "      <td>5</td>\n",
       "      <td>2</td>\n",
       "    </tr>\n",
       "    <tr>\n",
       "      <th>6649</th>\n",
       "      <td>0.77</td>\n",
       "      <td>0.50</td>\n",
       "      <td>4</td>\n",
       "      <td>281</td>\n",
       "      <td>2</td>\n",
       "      <td>0</td>\n",
       "      <td>0</td>\n",
       "      <td>0</td>\n",
       "      <td>7</td>\n",
       "      <td>1</td>\n",
       "    </tr>\n",
       "    <tr>\n",
       "      <th>10489</th>\n",
       "      <td>0.55</td>\n",
       "      <td>0.64</td>\n",
       "      <td>4</td>\n",
       "      <td>260</td>\n",
       "      <td>3</td>\n",
       "      <td>0</td>\n",
       "      <td>0</td>\n",
       "      <td>0</td>\n",
       "      <td>3</td>\n",
       "      <td>1</td>\n",
       "    </tr>\n",
       "    <tr>\n",
       "      <th>2108</th>\n",
       "      <td>0.74</td>\n",
       "      <td>0.76</td>\n",
       "      <td>5</td>\n",
       "      <td>104</td>\n",
       "      <td>4</td>\n",
       "      <td>0</td>\n",
       "      <td>0</td>\n",
       "      <td>0</td>\n",
       "      <td>8</td>\n",
       "      <td>1</td>\n",
       "    </tr>\n",
       "  </tbody>\n",
       "</table>\n",
       "</div>"
      ],
      "text/plain": [
       "       satisfaction_level  last_evaluation  number_project  \\\n",
       "3985                 0.55             0.64               3   \n",
       "2440                 0.80             0.75               3   \n",
       "6649                 0.77             0.50               4   \n",
       "10489                0.55             0.64               4   \n",
       "2108                 0.74             0.76               5   \n",
       "\n",
       "       average_montly_hours  time_spend_company  Work_accident  left  \\\n",
       "3985                    138                   3              1     0   \n",
       "2440                    181                   3              0     0   \n",
       "6649                    281                   2              0     0   \n",
       "10489                   260                   3              0     0   \n",
       "2108                    104                   4              0     0   \n",
       "\n",
       "       promotion_last_5years  sales  salary  \n",
       "3985                       0      7       1  \n",
       "2440                       0      5       2  \n",
       "6649                       0      7       1  \n",
       "10489                      0      3       1  \n",
       "2108                       0      8       1  "
      ]
     },
     "execution_count": 13,
     "metadata": {},
     "output_type": "execute_result"
    }
   ],
   "source": [
    "sales_unique = sorted(df['sales'].unique())\n",
    "salary_unique = sorted(df['salary'].unique())\n",
    "sales_mapping = dict(zip(sales_unique, range(0, len(sales_unique) + 1)))\n",
    "salary_mapping = dict(zip(salary_unique, range(0, len(salary_unique) + 1)))\n",
    "df['sales'].replace(sales_mapping, inplace=True)\n",
    "df['salary'].replace(salary_mapping, inplace=True)\n",
    "df.sample(5)"
   ]
  },
  {
   "cell_type": "markdown",
   "metadata": {},
   "source": [
    "# Assessing data quality - Outlier detection"
   ]
  },
  {
   "cell_type": "code",
   "execution_count": 14,
   "metadata": {},
   "outputs": [
    {
     "data": {
      "text/html": [
       "<div>\n",
       "<table border=\"1\" class=\"dataframe\">\n",
       "  <thead>\n",
       "    <tr style=\"text-align: right;\">\n",
       "      <th></th>\n",
       "      <th>satisfaction_level</th>\n",
       "      <th>last_evaluation</th>\n",
       "      <th>number_project</th>\n",
       "      <th>average_montly_hours</th>\n",
       "      <th>time_spend_company</th>\n",
       "      <th>Work_accident</th>\n",
       "      <th>left</th>\n",
       "      <th>promotion_last_5years</th>\n",
       "      <th>sales</th>\n",
       "      <th>salary</th>\n",
       "    </tr>\n",
       "  </thead>\n",
       "  <tbody>\n",
       "    <tr>\n",
       "      <th>0</th>\n",
       "      <td>0.318681</td>\n",
       "      <td>0.265625</td>\n",
       "      <td>0.0</td>\n",
       "      <td>0.285047</td>\n",
       "      <td>0.125</td>\n",
       "      <td>0.0</td>\n",
       "      <td>1.0</td>\n",
       "      <td>0.0</td>\n",
       "      <td>0.777778</td>\n",
       "      <td>0.5</td>\n",
       "    </tr>\n",
       "    <tr>\n",
       "      <th>1</th>\n",
       "      <td>0.780220</td>\n",
       "      <td>0.781250</td>\n",
       "      <td>0.6</td>\n",
       "      <td>0.775701</td>\n",
       "      <td>0.500</td>\n",
       "      <td>0.0</td>\n",
       "      <td>1.0</td>\n",
       "      <td>0.0</td>\n",
       "      <td>0.777778</td>\n",
       "      <td>1.0</td>\n",
       "    </tr>\n",
       "    <tr>\n",
       "      <th>2</th>\n",
       "      <td>0.021978</td>\n",
       "      <td>0.812500</td>\n",
       "      <td>1.0</td>\n",
       "      <td>0.822430</td>\n",
       "      <td>0.250</td>\n",
       "      <td>0.0</td>\n",
       "      <td>1.0</td>\n",
       "      <td>0.0</td>\n",
       "      <td>0.777778</td>\n",
       "      <td>1.0</td>\n",
       "    </tr>\n",
       "    <tr>\n",
       "      <th>3</th>\n",
       "      <td>0.692308</td>\n",
       "      <td>0.796875</td>\n",
       "      <td>0.6</td>\n",
       "      <td>0.593458</td>\n",
       "      <td>0.375</td>\n",
       "      <td>0.0</td>\n",
       "      <td>1.0</td>\n",
       "      <td>0.0</td>\n",
       "      <td>0.777778</td>\n",
       "      <td>0.5</td>\n",
       "    </tr>\n",
       "    <tr>\n",
       "      <th>4</th>\n",
       "      <td>0.307692</td>\n",
       "      <td>0.250000</td>\n",
       "      <td>0.0</td>\n",
       "      <td>0.294393</td>\n",
       "      <td>0.125</td>\n",
       "      <td>0.0</td>\n",
       "      <td>1.0</td>\n",
       "      <td>0.0</td>\n",
       "      <td>0.777778</td>\n",
       "      <td>0.5</td>\n",
       "    </tr>\n",
       "  </tbody>\n",
       "</table>\n",
       "</div>"
      ],
      "text/plain": [
       "   satisfaction_level  last_evaluation  number_project  average_montly_hours  \\\n",
       "0            0.318681         0.265625             0.0              0.285047   \n",
       "1            0.780220         0.781250             0.6              0.775701   \n",
       "2            0.021978         0.812500             1.0              0.822430   \n",
       "3            0.692308         0.796875             0.6              0.593458   \n",
       "4            0.307692         0.250000             0.0              0.294393   \n",
       "\n",
       "   time_spend_company  Work_accident  left  promotion_last_5years     sales  \\\n",
       "0               0.125            0.0   1.0                    0.0  0.777778   \n",
       "1               0.500            0.0   1.0                    0.0  0.777778   \n",
       "2               0.250            0.0   1.0                    0.0  0.777778   \n",
       "3               0.375            0.0   1.0                    0.0  0.777778   \n",
       "4               0.125            0.0   1.0                    0.0  0.777778   \n",
       "\n",
       "   salary  \n",
       "0     0.5  \n",
       "1     1.0  \n",
       "2     1.0  \n",
       "3     0.5  \n",
       "4     0.5  "
      ]
     },
     "execution_count": 14,
     "metadata": {},
     "output_type": "execute_result"
    }
   ],
   "source": [
    "# scale features between 0 and 1\n",
    "scaler = MinMaxScaler()\n",
    "df_01_scaled = pd.DataFrame(scaler.fit_transform(df), columns=df.columns)\n",
    "df_01_scaled.head()"
   ]
  },
  {
   "cell_type": "code",
   "execution_count": 32,
   "metadata": {},
   "outputs": [
    {
     "data": {
      "image/png": "[encoded data removed]",
      "text/plain": [
       "<matplotlib.figure.Figure at 0x7f2488d23690>"
      ]
     },
     "metadata": {},
     "output_type": "display_data"
    }
   ],
   "source": [
    "# box plots\n",
    "# dictionary key = boxes, medians, whiskers, caps, fliers \n",
    "#box_plot_dict = plt.boxplot([row for row in X_scaled], labels=[df.columns])\n",
    "#df_01_scaled.boxplot(figsize=(50,10))\n",
    "\n",
    "# Create a figure instance\n",
    "fig = plt.figure(1, figsize=(20, 10))\n",
    "\n",
    "# Create the boxplot\n",
    "df_01_scaled.boxplot()\n",
    "\n",
    "# Save the figure\n",
    "fig.savefig('fig1.png', bbox_inches='tight')"
   ]
  },
  {
   "cell_type": "code",
   "execution_count": null,
   "metadata": {},
   "outputs": [],
   "source": [
    "# outliers in time_spend_companies correspond to the values with the less frequency in the histogram.\n",
    "# box plots for 0-1 features are not particularly interesting."
   ]
  },
  {
   "cell_type": "code",
   "execution_count": 41,
   "metadata": {},
   "outputs": [
    {
     "data": {
      "image/png": "[encoded data removed]",
      "text/plain": [
       "<matplotlib.figure.Figure at 0x7f2489259110>"
      ]
     },
     "metadata": {},
     "output_type": "display_data"
    }
   ],
   "source": [
    "# Principal Component Analysis to plot the data in 2D. (dimensionality reduction from 10 to 2)\n",
    "pca = PCA(n_components=2)\n",
    "X_scaled_2D = pca.fit_transform(df_01_scaled)\n",
    "plt.scatter(X_scaled_2D[:,0], X_scaled_2D[:,1], alpha=0.5)\n",
    "plt.title(\"PCA: dimensionality reduction from 10 to 2 features\")\n",
    "plt.show()"
   ]
  },
  {
   "cell_type": "code",
   "execution_count": null,
   "metadata": {},
   "outputs": [],
   "source": [
    "# data doesn't look so sparse so don't use logarithmic transformation."
   ]
  },
  {
   "cell_type": "markdown",
   "metadata": {},
   "source": [
    "# Pairwise correlation and eventual elimination of redundant variables"
   ]
  },
  {
   "cell_type": "code",
   "execution_count": null,
   "metadata": {},
   "outputs": [],
   "source": [
    "# pearsons' r pairwise\n",
    "# spearmans pairwise\n",
    "# scatter plot pairwise"
   ]
  }
 ],
 "metadata": {
  "kernelspec": {
   "display_name": "Python 2",
   "language": "python",
   "name": "python2"
  },
  "language_info": {
   "codemirror_mode": {
    "name": "ipython",
    "version": 2
   },
   "file_extension": ".py",
   "mimetype": "text/x-python",
   "name": "python",
   "nbconvert_exporter": "python",
   "pygments_lexer": "ipython2",
   "version": "2.7.13"
  }
 },
 "nbformat": 4,
 "nbformat_minor": 1
}
